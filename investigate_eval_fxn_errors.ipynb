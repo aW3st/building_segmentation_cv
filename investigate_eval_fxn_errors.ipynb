{
 "cells": [
  {
   "cell_type": "code",
   "execution_count": 1,
   "metadata": {},
   "outputs": [],
   "source": [
    "import torch\n",
    "from PIL import Image\n",
    "import numpy as np\n",
    "import sys,os\n",
    "\n",
    "from torchvision import transforms\n",
    "\n",
    "from tqdm import tqdm\n",
    "import pdb\n",
    "\n",
    "import pipeline.criterion as Criterion\n",
    "from pipeline.load import get_dataloader\n",
    "import pipeline.network as Network\n",
    "import LovaszSoftmax.pytorch.lovasz_losses as L\n",
    "\n",
    "import argparse\n",
    "import evaluate as Eval"
   ]
  },
  {
   "cell_type": "code",
   "execution_count": 23,
   "metadata": {},
   "outputs": [],
   "source": [
    "class ObjectView:\n",
    "    '''\n",
    "    Helper class to access dict values as attributes.\n",
    "\n",
    "    Replaces command-line arg-parse options.\n",
    "    '''\n",
    "    def __init__(self, d):\n",
    "        self.__dict__ = d\n",
    "\n",
    "\n",
    "def img_frombytes(data):\n",
    "    size = data.shape[::-1]\n",
    "    databytes = np.packbits(data, axis=1)\n",
    "    return Image.frombytes(mode='1', size=size, data=databytes)\n",
    "\n",
    "def load_model_with_weights(model_name=None, num_epochs=8, batch_size=16, use_lovasz=True, se_loss=False, aux=False):\n",
    "    '''\n",
    "    Load a model by name from the /models subdirectory.\n",
    "    '''\n",
    "\n",
    "    options = {\n",
    "        'use_jaccard': True,\n",
    "        'use_lovasz': use_lovasz,\n",
    "        'early_stopping': False,\n",
    "        'validation': True,\n",
    "        'model': 'encnet', # model name (default: encnet)\n",
    "        'backbone': 'resnet50', # backbone name (default: resnet50)\n",
    "        'jpu': True, # 'JPU'\n",
    "        'dilated': True, # 'dilation'\n",
    "        'lateral': False, #'employ FPN')\n",
    "        'dataset':'ade20k', # 'dataset name (default: pascal12)')\n",
    "        'workers': 16, # dataloader threads\n",
    "        'base_size': 520, # 'base image size'\n",
    "        'crop_size': 480, # 'crop image size')\n",
    "        'train_split':'train', # 'dataset train split (default: train)'\n",
    "\n",
    "        # training hyper params\n",
    "        'aux': aux, # 'Auxilary Loss'\n",
    "        'aux_weight': 0.2, # 'Auxilary loss weight (default: 0.2)'\n",
    "        'se_loss': se_loss, # 'Semantic Encoding Loss SE-loss'\n",
    "        'se_weight': 0.2, # 'SE-loss weight (default: 0.2)'\n",
    "        'start_epoch': 0, # 'start epochs (default:0)'\n",
    "        'batch_size': batch_size, # 'input batch size for training (default: auto)'\n",
    "        'test_batch_size': None, # 'input batch size for testing (default: same as batch size)'\n",
    "        'epochs':num_epochs,\n",
    "\n",
    "        # optimizer params\n",
    "        'optimizer': 'sgd',\n",
    "        'lovasz_hinge': True,\n",
    "        'lr': None, # 'learning rate (default: auto)'\n",
    "        'lr_scheduler': 'poly', # 'learning rate scheduler (default: poly)'\n",
    "        'momentum': 0.9, # 'momentum (default: 0.9)'\n",
    "        'weight_decay': 1e-4, # 'w-decay (default: 1e-4)'\n",
    "\n",
    "        # cuda, seed and logging\n",
    "        'no_cuda': False, # 'disables CUDA training'\n",
    "        'seed': 100, # 'random seed (default: 1)'\n",
    "\n",
    "        # checking point\n",
    "        'resume': None, # 'put the path to resuming file if needed'\n",
    "        'checkname': 'default', # 'set the checkpoint name'\n",
    "        'model-zoo': None, # 'evaluating on model zoo model'\n",
    "\n",
    "        # finetuning pre-trained models\n",
    "        'ft': False, # 'finetuning on a different dataset'\n",
    "\n",
    "        # evaluation option\n",
    "        'split': 'val',\n",
    "        'mode': 'testval',\n",
    "        'ms': False, # 'multi scale & flip'\n",
    "        'no_val': False, # 'skip validation during training'\n",
    "    }\n",
    "\n",
    "    model_args = ObjectView(options)\n",
    "    model = Network.get_model(model_args)\n",
    "\n",
    "    if model_name[-5:] == '_m.pt':\n",
    "        model_name = model_name[:-5]\n",
    "\n",
    "    path_to_state_dict = 'models/{}/{}_m.pt'.format(model_name, model_name)\n",
    "    model.load_state_dict(torch.load(path_to_state_dict))\n",
    "\n",
    "    return model\n",
    "\n",
    "\n",
    "def output_to_pred_imgs(output, dim=0, use_lovasz=False):\n",
    "    \n",
    "    if use_lovasz:\n",
    "        np_pred = (output[0]>0).squeeze().cpu()\n",
    "    else:\n",
    "        np_pred = torch.max(output, dim=dim)[1].cpu().numpy()\n",
    "    return img_frombytes(np_pred)\n",
    "\n",
    "\n",
    "def predict_test_set(model, model_name, overwrite=False, use_lovasz=False):\n",
    "    '''\n",
    "    Predict for the entire submission set.\n",
    "    '''\n",
    "\n",
    "    out_dir = 'models/{}/predictions'.format(model_name)\n",
    "    if not os.path.exists(out_dir):\n",
    "        os.makedirs(out_dir)\n",
    "\n",
    "    test_dataloader = get_dataloader(load_test=True, batch_size=4, overwrite=overwrite, out_dir=out_dir)\n",
    "    if test_dataloader == False:\n",
    "        print('Exiting...')\n",
    "        sys.exit()\n",
    "    \n",
    "    device = torch.device('cuda') if torch.cuda.is_available() else torch.device('cpu')\n",
    "    model.to(device)\n",
    "\n",
    "    print('Beginning Prediction Loop')\n",
    "    tbar = tqdm(test_dataloader)\n",
    "    for _, (image_tensors, img_names) in enumerate(tbar):        \n",
    "\n",
    "        # Load tensors to GPU\n",
    "        image_tensors = image_tensors.to(device)\n",
    "\n",
    "        # Predict on image tensors\n",
    "        with torch.no_grad():\n",
    "            outputs = model(image_tensors)\n",
    "            predict_imgs = [output_to_pred_imgs(output,use_lovasz=use_lovasz) for output in outputs]\n",
    "            \n",
    "        # Zip images, and save.\n",
    "        for predict_img, img_name in zip(predict_imgs, img_names):\n",
    "            image_out_path = 'models/{}/predictions/{}.tif'.format(model_name, img_name)\n",
    "            predict_img.save(image_out_path, compression=\"tiff_deflate\")\n",
    "\n",
    "    return None\n",
    "\n",
    "\n",
    "def score_region(model, model_name, region, thresh=0):\n",
    "    '''\n",
    "    evaluate and score for a single region. save results.\n",
    "    '''\n",
    "\n",
    "    test_dataloader = get_dataloader(\n",
    "        in_dir='training_data', batch_size=8, region=region\n",
    "        )\n",
    "    device = torch.device('cpu')\n",
    "    model.to(device)\n",
    "\n",
    "    print('Beginning Prediction Loop')\n",
    "\n",
    "    region_loss = 0\n",
    "\n",
    "    region_ct = 0\n",
    "    tbar = tqdm(test_dataloader)\n",
    "    with open('region_scores.csv', 'a', newline='') as csvfile:\n",
    "        csvwriter=csv.DictWriter(csvfile, fieldnames=['region', 'img_name', 'iou_score'])\n",
    "        csvwriter.writeheader()\n",
    "        for _, (images, masks, img_names) in enumerate(tbar):\n",
    "\n",
    "            # Predict on image tensors\n",
    "            with torch.no_grad():\n",
    "                images = images.to(device)\n",
    "\n",
    "                outputs = model(images)\n",
    "                outputs = (outputs[0]>thresh).long().data\n",
    "                masks = masks.to(device)\n",
    "\n",
    "                for i, img_name in enumerate(np.array(img_names)):\n",
    "                    loss = L.iou_binary(outputs[i], masks[i])\n",
    "                    region_loss += loss\n",
    "                    region_ct += 1\n",
    "                    img_name = img_name.split('/')[-1]\n",
    "                    csvwriter.writerow({'region':region, 'img_name':img_name, 'iou_score': loss})\n",
    "        \n",
    "        csvwriter.writerow({'region':region, 'img_name': 'avg_loss', 'iou_score': region_loss/region_ct})\n",
    "\n",
    "\n",
    "    return None"
   ]
  },
  {
   "cell_type": "code",
   "execution_count": 24,
   "metadata": {},
   "outputs": [],
   "source": [
    "MODEL_NAME = '11-03-2020_12-11__full_lovasz_trial_chkpt'\n",
    "MODEL = load_model_with_weights(model_name=MODEL_NAME, use_lovasz=True)\n",
    "MODEL.eval();"
   ]
  },
  {
   "cell_type": "code",
   "execution_count": 25,
   "metadata": {
    "scrolled": true
   },
   "outputs": [
    {
     "name": "stderr",
     "output_type": "stream",
     "text": [
      "\r",
      "  0%|          | 0/2871 [00:00<?, ?it/s]"
     ]
    },
    {
     "name": "stdout",
     "output_type": "stream",
     "text": [
      "Getting dataset.\n",
      "Pulling from directory training_data\n",
      "Loading Test\n",
      "Beginning Prediction Loop\n"
     ]
    },
    {
     "name": "stderr",
     "output_type": "stream",
     "text": [
      "  0%|          | 6/2871 [00:06<53:51,  1.13s/it]  "
     ]
    },
    {
     "ename": "KeyboardInterrupt",
     "evalue": "",
     "output_type": "error",
     "traceback": [
      "\u001b[0;31m---------------------------------------------------------------------------\u001b[0m",
      "\u001b[0;31mKeyboardInterrupt\u001b[0m                         Traceback (most recent call last)",
      "\u001b[0;32m<ipython-input-25-3312820e3dc2>\u001b[0m in \u001b[0;36m<module>\u001b[0;34m\u001b[0m\n\u001b[0;32m----> 1\u001b[0;31m \u001b[0mpredict_test_set\u001b[0m\u001b[0;34m(\u001b[0m\u001b[0mmodel\u001b[0m\u001b[0;34m=\u001b[0m\u001b[0mMODEL\u001b[0m\u001b[0;34m,\u001b[0m \u001b[0mmodel_name\u001b[0m\u001b[0;34m=\u001b[0m\u001b[0mMODEL_NAME\u001b[0m\u001b[0;34m,\u001b[0m \u001b[0muse_lovasz\u001b[0m\u001b[0;34m=\u001b[0m\u001b[0;32mTrue\u001b[0m\u001b[0;34m)\u001b[0m\u001b[0;34m\u001b[0m\u001b[0;34m\u001b[0m\u001b[0m\n\u001b[0m",
      "\u001b[0;32m<ipython-input-23-97527e5a7dd5>\u001b[0m in \u001b[0;36mpredict_test_set\u001b[0;34m(model, model_name, overwrite, use_lovasz)\u001b[0m\n\u001b[1;32m    120\u001b[0m         \u001b[0;32mwith\u001b[0m \u001b[0mtorch\u001b[0m\u001b[0;34m.\u001b[0m\u001b[0mno_grad\u001b[0m\u001b[0;34m(\u001b[0m\u001b[0;34m)\u001b[0m\u001b[0;34m:\u001b[0m\u001b[0;34m\u001b[0m\u001b[0;34m\u001b[0m\u001b[0m\n\u001b[1;32m    121\u001b[0m             \u001b[0moutputs\u001b[0m \u001b[0;34m=\u001b[0m \u001b[0mmodel\u001b[0m\u001b[0;34m(\u001b[0m\u001b[0mimage_tensors\u001b[0m\u001b[0;34m)\u001b[0m\u001b[0;34m\u001b[0m\u001b[0;34m\u001b[0m\u001b[0m\n\u001b[0;32m--> 122\u001b[0;31m             \u001b[0mpredict_imgs\u001b[0m \u001b[0;34m=\u001b[0m \u001b[0;34m[\u001b[0m\u001b[0moutput_to_pred_imgs\u001b[0m\u001b[0;34m(\u001b[0m\u001b[0moutput\u001b[0m\u001b[0;34m,\u001b[0m\u001b[0muse_lovasz\u001b[0m\u001b[0;34m=\u001b[0m\u001b[0muse_lovasz\u001b[0m\u001b[0;34m)\u001b[0m \u001b[0;32mfor\u001b[0m \u001b[0moutput\u001b[0m \u001b[0;32min\u001b[0m \u001b[0moutputs\u001b[0m\u001b[0;34m]\u001b[0m\u001b[0;34m\u001b[0m\u001b[0;34m\u001b[0m\u001b[0m\n\u001b[0m\u001b[1;32m    123\u001b[0m \u001b[0;34m\u001b[0m\u001b[0m\n\u001b[1;32m    124\u001b[0m         \u001b[0;31m# Zip images, and save.\u001b[0m\u001b[0;34m\u001b[0m\u001b[0;34m\u001b[0m\u001b[0;34m\u001b[0m\u001b[0m\n",
      "\u001b[0;32m<ipython-input-23-97527e5a7dd5>\u001b[0m in \u001b[0;36m<listcomp>\u001b[0;34m(.0)\u001b[0m\n\u001b[1;32m    120\u001b[0m         \u001b[0;32mwith\u001b[0m \u001b[0mtorch\u001b[0m\u001b[0;34m.\u001b[0m\u001b[0mno_grad\u001b[0m\u001b[0;34m(\u001b[0m\u001b[0;34m)\u001b[0m\u001b[0;34m:\u001b[0m\u001b[0;34m\u001b[0m\u001b[0;34m\u001b[0m\u001b[0m\n\u001b[1;32m    121\u001b[0m             \u001b[0moutputs\u001b[0m \u001b[0;34m=\u001b[0m \u001b[0mmodel\u001b[0m\u001b[0;34m(\u001b[0m\u001b[0mimage_tensors\u001b[0m\u001b[0;34m)\u001b[0m\u001b[0;34m\u001b[0m\u001b[0;34m\u001b[0m\u001b[0m\n\u001b[0;32m--> 122\u001b[0;31m             \u001b[0mpredict_imgs\u001b[0m \u001b[0;34m=\u001b[0m \u001b[0;34m[\u001b[0m\u001b[0moutput_to_pred_imgs\u001b[0m\u001b[0;34m(\u001b[0m\u001b[0moutput\u001b[0m\u001b[0;34m,\u001b[0m\u001b[0muse_lovasz\u001b[0m\u001b[0;34m=\u001b[0m\u001b[0muse_lovasz\u001b[0m\u001b[0;34m)\u001b[0m \u001b[0;32mfor\u001b[0m \u001b[0moutput\u001b[0m \u001b[0;32min\u001b[0m \u001b[0moutputs\u001b[0m\u001b[0;34m]\u001b[0m\u001b[0;34m\u001b[0m\u001b[0;34m\u001b[0m\u001b[0m\n\u001b[0m\u001b[1;32m    123\u001b[0m \u001b[0;34m\u001b[0m\u001b[0m\n\u001b[1;32m    124\u001b[0m         \u001b[0;31m# Zip images, and save.\u001b[0m\u001b[0;34m\u001b[0m\u001b[0;34m\u001b[0m\u001b[0;34m\u001b[0m\u001b[0m\n",
      "\u001b[0;32m<ipython-input-23-97527e5a7dd5>\u001b[0m in \u001b[0;36moutput_to_pred_imgs\u001b[0;34m(output, dim, use_lovasz)\u001b[0m\n\u001b[1;32m     87\u001b[0m \u001b[0;34m\u001b[0m\u001b[0m\n\u001b[1;32m     88\u001b[0m     \u001b[0;32mif\u001b[0m \u001b[0muse_lovasz\u001b[0m\u001b[0;34m:\u001b[0m\u001b[0;34m\u001b[0m\u001b[0;34m\u001b[0m\u001b[0m\n\u001b[0;32m---> 89\u001b[0;31m         \u001b[0mnp_pred\u001b[0m \u001b[0;34m=\u001b[0m \u001b[0;34m(\u001b[0m\u001b[0moutput\u001b[0m\u001b[0;34m[\u001b[0m\u001b[0;36m0\u001b[0m\u001b[0;34m]\u001b[0m\u001b[0;34m>\u001b[0m\u001b[0;36m0\u001b[0m\u001b[0;34m)\u001b[0m\u001b[0;34m.\u001b[0m\u001b[0msqueeze\u001b[0m\u001b[0;34m(\u001b[0m\u001b[0;34m)\u001b[0m\u001b[0;34m.\u001b[0m\u001b[0mcpu\u001b[0m\u001b[0;34m(\u001b[0m\u001b[0;34m)\u001b[0m\u001b[0;34m\u001b[0m\u001b[0;34m\u001b[0m\u001b[0m\n\u001b[0m\u001b[1;32m     90\u001b[0m     \u001b[0;32melse\u001b[0m\u001b[0;34m:\u001b[0m\u001b[0;34m\u001b[0m\u001b[0;34m\u001b[0m\u001b[0m\n\u001b[1;32m     91\u001b[0m         \u001b[0mnp_pred\u001b[0m \u001b[0;34m=\u001b[0m \u001b[0mtorch\u001b[0m\u001b[0;34m.\u001b[0m\u001b[0mmax\u001b[0m\u001b[0;34m(\u001b[0m\u001b[0moutput\u001b[0m\u001b[0;34m,\u001b[0m \u001b[0mdim\u001b[0m\u001b[0;34m=\u001b[0m\u001b[0mdim\u001b[0m\u001b[0;34m)\u001b[0m\u001b[0;34m[\u001b[0m\u001b[0;36m1\u001b[0m\u001b[0;34m]\u001b[0m\u001b[0;34m.\u001b[0m\u001b[0mcpu\u001b[0m\u001b[0;34m(\u001b[0m\u001b[0;34m)\u001b[0m\u001b[0;34m.\u001b[0m\u001b[0mnumpy\u001b[0m\u001b[0;34m(\u001b[0m\u001b[0;34m)\u001b[0m\u001b[0;34m\u001b[0m\u001b[0;34m\u001b[0m\u001b[0m\n",
      "\u001b[0;31mKeyboardInterrupt\u001b[0m: "
     ]
    }
   ],
   "source": [
    "predict_test_set(model=MODEL, model_name=MODEL_NAME, use_lovasz=True)"
   ]
  },
  {
   "cell_type": "code",
   "execution_count": 2,
   "metadata": {},
   "outputs": [],
   "source": [
    "import glob"
   ]
  },
  {
   "cell_type": "code",
   "execution_count": 3,
   "metadata": {},
   "outputs": [
    {
     "data": {
      "text/plain": [
       "787"
      ]
     },
     "execution_count": 3,
     "metadata": {},
     "output_type": "execute_result"
    }
   ],
   "source": [
    "outputs = glob.glob('models/11-03-2020_12-11__full_lovasz_trial_chkpt/predictions/*')\n",
    "len(outputs)"
   ]
  },
  {
   "cell_type": "code",
   "execution_count": 4,
   "metadata": {},
   "outputs": [],
   "source": [
    "import matplotlib.pyplot as plt"
   ]
  },
  {
   "cell_type": "code",
   "execution_count": 5,
   "metadata": {},
   "outputs": [],
   "source": [
    "from PIL import Image\n",
    "import numpy as np"
   ]
  },
  {
   "cell_type": "code",
   "execution_count": 24,
   "metadata": {},
   "outputs": [
    {
     "data": {
      "image/png": "[encoded data removed]",
      "text/plain": [
       "<PIL.TiffImagePlugin.TiffImageFile image mode=1 size=1024x1024 at 0x7FD7B3740310>"
      ]
     },
     "execution_count": 24,
     "metadata": {},
     "output_type": "execute_result"
    }
   ],
   "source": [
    "img = Image.open(outputs[700])\n",
    "img"
   ]
  },
  {
   "cell_type": "code",
   "execution_count": 33,
   "metadata": {},
   "outputs": [
    {
     "data": {
      "text/plain": [
       "<bound method Image.getbands of <PIL.TiffImagePlugin.TiffImageFile image mode=1 size=1024x1024 at 0x7FE8288E6F90>>"
      ]
     },
     "execution_count": 33,
     "metadata": {},
     "output_type": "execute_result"
    }
   ],
   "source": [
    "img.getbands"
   ]
  },
  {
   "cell_type": "code",
   "execution_count": 27,
   "metadata": {
    "scrolled": true
   },
   "outputs": [
    {
     "data": {
      "text/plain": [
       "<matplotlib.image.AxesImage at 0x7fe82894c790>"
      ]
     },
     "execution_count": 27,
     "metadata": {},
     "output_type": "execute_result"
    },
    {
     "data": {
      "image/png": "[encoded data removed]",
      "text/plain": [
       "<Figure size 432x288 with 1 Axes>"
      ]
     },
     "metadata": {
      "needs_background": "light"
     },
     "output_type": "display_data"
    }
   ],
   "source": [
    "plt.imshow(np.array(img))"
   ]
  },
  {
   "cell_type": "code",
   "execution_count": null,
   "metadata": {},
   "outputs": [],
   "source": []
  }
 ],
 "metadata": {
  "kernelspec": {
   "display_name": "Python 3",
   "language": "python",
   "name": "python3"
  },
  "language_info": {
   "codemirror_mode": {
    "name": "ipython",
    "version": 3
   },
   "file_extension": ".py",
   "mimetype": "text/x-python",
   "name": "python",
   "nbconvert_exporter": "python",
   "pygments_lexer": "ipython3",
   "version": "3.7.4"
  }
 },
 "nbformat": 4,
 "nbformat_minor": 2
}
